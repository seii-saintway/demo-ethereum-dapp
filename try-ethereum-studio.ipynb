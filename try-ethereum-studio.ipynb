{
 "cells": [
  {
   "cell_type": "markdown",
   "metadata": {},
   "source": [
    "https://ethereum.org/zh/build/"
   ]
  },
  {
   "cell_type": "markdown",
   "metadata": {},
   "source": [
    "https://github.com/SuperblocksHQ/ethereum-studio"
   ]
  },
  {
   "cell_type": "code",
   "execution_count": 1,
   "metadata": {},
   "outputs": [
    {
     "name": "stdout",
     "output_type": "stream",
     "text": [
      "Run a command from a local or remote npm package.\n",
      "\n",
      "npm exec -- <pkg>[@<version>] [args...]\n",
      "npm exec --package=<pkg>[@<version>] -- <cmd> [args...]\n",
      "npm exec -c '<cmd> [args...]'\n",
      "npm exec --package=foo -c '<cmd> [args...]'\n",
      "\n",
      "npx <pkg>[@<specifier>] [args...]\n",
      "npx -p <pkg>[@<specifier>] <cmd> [args...]\n",
      "npx -c '<cmd> [args...]'\n",
      "npx -p <pkg>[@<specifier>] -c '<cmd> [args...]'\n",
      "\n",
      "alias: x\n",
      "common options: \n",
      "--package=<pkg> (may be specified multiple times)\n",
      "-p is a shorthand for --package only when using npx executable\n",
      "-c <cmd> --call=<cmd> (may not be mixed with positional arguments)\n"
     ]
    }
   ],
   "source": [
    "npx --help"
   ]
  }
 ],
 "metadata": {
  "kernelspec": {
   "display_name": "Bash",
   "language": "bash",
   "name": "bash"
  },
  "language_info": {
   "codemirror_mode": "shell",
   "file_extension": ".sh",
   "mimetype": "text/x-sh",
   "name": "bash"
  }
 },
 "nbformat": 4,
 "nbformat_minor": 4
}
