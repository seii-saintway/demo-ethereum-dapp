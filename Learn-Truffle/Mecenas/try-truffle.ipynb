{
 "cells": [
  {
   "cell_type": "code",
   "execution_count": null,
   "metadata": {},
   "outputs": [],
   "source": [
    "sudo chown -R jupyter-sheng_wei:jupyterhub-users ~/.config/truffle"
   ]
  },
  {
   "cell_type": "code",
   "execution_count": null,
   "metadata": {},
   "outputs": [
    {
     "name": "stdout",
     "output_type": "stream",
     "text": [
      "{}"
     ]
    }
   ],
   "source": [
    "cat ~/.config/truffle/config.json"
   ]
  },
  {
   "cell_type": "code",
   "execution_count": null,
   "metadata": {},
   "outputs": [
    {
     "name": "stdout",
     "output_type": "stream",
     "text": [
      "total 12M\n",
      "drwxr-xr-x 2 jupyter-sheng_wei jupyterhub-users 4.0K Oct 19 16:34 ./\n",
      "drwxr-xr-x 3 jupyter-sheng_wei jupyterhub-users 4.0K Oct 19 16:34 ../\n",
      "-rw-r--r-- 1 jupyter-sheng_wei jupyterhub-users  12M Oct 19 16:34 soljson-v0.5.16+commit.9c3226ce.js\n"
     ]
    }
   ],
   "source": [
    "ll ~/.config/truffle/compilers/node_modules"
   ]
  },
  {
   "cell_type": "code",
   "execution_count": null,
   "metadata": {},
   "outputs": [
    {
     "name": "stdout",
     "output_type": "stream",
     "text": [
      "total 24216\n",
      "drwxr-xr-x  3 saintway  staff    96B Nov  6 09:14 .\n",
      "drwxr-xr-x  3 saintway  staff    96B Nov  6 09:14 ..\n",
      "-rw-r--r--  1 saintway  staff    12M Nov  6 09:14 soljson-v0.5.16+commit.9c3226ce.js\n"
     ]
    }
   ],
   "source": [
    "ls -lah ~/.config/truffle/compilers/node_modules"
   ]
  },
  {
   "cell_type": "code",
   "execution_count": null,
   "metadata": {},
   "outputs": [],
   "source": [
    "npm install openzeppelin-solidity@^1.9.0"
   ]
  },
  {
   "cell_type": "code",
   "execution_count": null,
   "metadata": {},
   "outputs": [],
   "source": [
    "truffle help compile"
   ]
  },
  {
   "cell_type": "code",
   "execution_count": null,
   "metadata": {},
   "outputs": [],
   "source": [
    "truffle compile --all"
   ]
  },
  {
   "cell_type": "code",
   "execution_count": null,
   "metadata": {},
   "outputs": [],
   "source": [
    "truffle help migrate"
   ]
  },
  {
   "cell_type": "code",
   "execution_count": null,
   "metadata": {},
   "outputs": [],
   "source": [
    "truffle migrate --reset"
   ]
  },
  {
   "cell_type": "code",
   "execution_count": null,
   "metadata": {},
   "outputs": [],
   "source": [
    "truffle test"
   ]
  },
  {
   "cell_type": "code",
   "execution_count": null,
   "metadata": {},
   "outputs": [],
   "source": [
    "ncu"
   ]
  }
 ],
 "metadata": {
  "kernelspec": {
   "display_name": "Bash",
   "language": "bash",
   "name": "bash"
  },
  "language_info": {
   "codemirror_mode": "shell",
   "file_extension": ".sh",
   "mimetype": "text/x-sh",
   "name": "bash"
  }
 },
 "nbformat": 4,
 "nbformat_minor": 4
}
