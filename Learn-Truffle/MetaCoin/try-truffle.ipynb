{
 "cells": [
  {
   "cell_type": "code",
   "execution_count": null,
   "metadata": {},
   "outputs": [],
   "source": [
    "%%bash\n",
    "brew install node"
   ]
  },
  {
   "cell_type": "code",
   "execution_count": 1,
   "metadata": {},
   "outputs": [
    {
     "name": "stdout",
     "output_type": "stream",
     "text": [
      "7.0.8\n"
     ]
    }
   ],
   "source": [
    "%%bash\n",
    "npm -v"
   ]
  },
  {
   "cell_type": "markdown",
   "metadata": {},
   "source": [
    "[Truffle Installation](https://www.trufflesuite.com/docs/truffle/getting-started/installation)"
   ]
  },
  {
   "cell_type": "code",
   "execution_count": null,
   "metadata": {},
   "outputs": [],
   "source": [
    "%%bash\n",
    "npm install -g --unsafe-perm=true --allow-root truffle"
   ]
  },
  {
   "cell_type": "markdown",
   "metadata": {},
   "source": [
    "[Choosing an Ethereum client](https://www.trufflesuite.com/docs/getting_started/client)"
   ]
  },
  {
   "cell_type": "markdown",
   "metadata": {},
   "source": [
    "[Truffle Quickstart](https://www.trufflesuite.com/docs/truffle/quickstart)"
   ]
  },
  {
   "cell_type": "code",
   "execution_count": 1,
   "metadata": {},
   "outputs": [],
   "source": [
    "%%bash\n",
    "mkdir MetaCoin"
   ]
  },
  {
   "cell_type": "code",
   "execution_count": 4,
   "metadata": {},
   "outputs": [
    {
     "name": "stdout",
     "output_type": "stream",
     "text": [
      "\n",
      "Starting unbox...\n",
      "=================\n",
      "\n",
      "\n",
      "Unbox successful, sweet!\n",
      "\n",
      "Commands:\n",
      "\n",
      "  Compile contracts: truffle compile\n",
      "  Migrate contracts: truffle migrate\n",
      "  Test contracts:    truffle test\n",
      "\n"
     ]
    },
    {
     "name": "stderr",
     "output_type": "stream",
     "text": [
      "- Preparing to download box\n",
      "✔ Preparing to download box\n",
      "- Downloading\n",
      "✔ Downloading\n",
      "- Cleaning up temporary files\n",
      "✔ Cleaning up temporary files\n",
      "- Setting up box\n",
      "✔ Setting up box\n"
     ]
    }
   ],
   "source": [
    "%%bash\n",
    "cd MetaCoin && yes | truffle unbox metacoin"
   ]
  },
  {
   "cell_type": "code",
   "execution_count": 5,
   "metadata": {},
   "outputs": [
    {
     "name": "stdout",
     "output_type": "stream",
     "text": [
      "\n",
      "Compiling your contracts...\n",
      "===========================\n",
      "> Compiling ./contracts/ConvertLib.sol\n",
      "> Compiling ./contracts/MetaCoin.sol\n",
      "> Compiling ./contracts/Migrations.sol\n",
      "> Compiling ./test/TestMetaCoin.sol\n",
      "> Artifacts written to /var/folders/xb/4kp1spnd1knbtnbxzn_2d8cr0000gn/T/test--73071-J2kVWw93didS\n",
      "> Compiled successfully using:\n",
      "   - solc: 0.5.16+commit.9c3226ce.Emscripten.clang\n",
      "\n",
      "\n",
      "\u001b[0m\u001b[0m\n",
      "\u001b[0m  TestMetaCoin\u001b[0m\n",
      "  \u001b[32m  ✓\u001b[0m\u001b[90m testInitialBalanceUsingDeployedContract\u001b[0m\u001b[33m (72ms)\u001b[0m\n",
      "  \u001b[32m  ✓\u001b[0m\u001b[90m testInitialBalanceWithNewMetaCoin\u001b[0m\u001b[33m (62ms)\u001b[0m\n",
      "\n",
      "\n",
      "\u001b[92m \u001b[0m\u001b[32m 2 passing\u001b[0m\u001b[90m (5s)\u001b[0m\n",
      "\n"
     ]
    }
   ],
   "source": [
    "%%bash\n",
    "cd MetaCoin && truffle test ./test/TestMetaCoin.sol"
   ]
  },
  {
   "cell_type": "code",
   "execution_count": 6,
   "metadata": {},
   "outputs": [
    {
     "name": "stdout",
     "output_type": "stream",
     "text": [
      "\n",
      "Compiling your contracts...\n",
      "===========================\n",
      "> Compiling ./contracts/ConvertLib.sol\n",
      "> Compiling ./contracts/MetaCoin.sol\n",
      "> Compiling ./contracts/Migrations.sol\n",
      "> Artifacts written to /var/folders/xb/4kp1spnd1knbtnbxzn_2d8cr0000gn/T/test--73092-C5gJoKF7qrS6\n",
      "> Compiled successfully using:\n",
      "   - solc: 0.5.16+commit.9c3226ce.Emscripten.clang\n",
      "\n",
      "\n",
      "\u001b[0m\u001b[0m\n",
      "\u001b[0m  Contract: MetaCoin\u001b[0m\n",
      "  \u001b[32m  ✓\u001b[0m\u001b[90m should put 10000 MetaCoin in the first account\u001b[0m\n",
      "  \u001b[32m  ✓\u001b[0m\u001b[90m should call a function that depends on a linked library\u001b[0m\u001b[33m (51ms)\u001b[0m\n",
      "  \u001b[32m  ✓\u001b[0m\u001b[90m should send coin correctly\u001b[0m\u001b[31m (139ms)\u001b[0m\n",
      "\n",
      "\n",
      "\u001b[92m \u001b[0m\u001b[32m 3 passing\u001b[0m\u001b[90m (251ms)\u001b[0m\n",
      "\n"
     ]
    }
   ],
   "source": [
    "%%bash\n",
    "cd MetaCoin && truffle test ./test/metacoin.js"
   ]
  },
  {
   "cell_type": "code",
   "execution_count": 7,
   "metadata": {},
   "outputs": [
    {
     "name": "stdout",
     "output_type": "stream",
     "text": [
      "\n",
      "Compiling your contracts...\n",
      "===========================\n",
      "> Compiling ./contracts/ConvertLib.sol\n",
      "> Compiling ./contracts/MetaCoin.sol\n",
      "> Compiling ./contracts/Migrations.sol\n",
      "> Artifacts written to /Users/saintway/JHub/demo-ethereum-dapp/Learn-Truffle/MetaCoin/build/contracts\n",
      "> Compiled successfully using:\n",
      "   - solc: 0.5.16+commit.9c3226ce.Emscripten.clang\n",
      "\n"
     ]
    }
   ],
   "source": [
    "%%bash\n",
    "cd MetaCoin && truffle compile"
   ]
  },
  {
   "cell_type": "code",
   "execution_count": 1,
   "metadata": {},
   "outputs": [
    {
     "name": "stdout",
     "output_type": "stream",
     "text": [
      "Overwriting MetaCoin/truffle-config.js\n"
     ]
    }
   ],
   "source": [
    "%%writefile MetaCoin/truffle-config.js\n",
    "module.exports = {\n",
    "  // Uncommenting the defaults below \n",
    "  // provides for an easier quick-start with Ganache.\n",
    "  // You can also follow this format for other networks;\n",
    "  // see <http://truffleframework.com/docs/advanced/configuration>\n",
    "  // for more details on how to specify configuration options!\n",
    "  \n",
    "  networks: {\n",
    "   development: {\n",
    "     host: \"127.0.0.1\",\n",
    "     port: 8545,\n",
    "     network_id: \"*\"\n",
    "   },\n",
    "   test: {\n",
    "     host: \"127.0.0.1\",\n",
    "     port: 8545,\n",
    "     network_id: \"*\"\n",
    "   }\n",
    "  }\n",
    "  \n",
    "};"
   ]
  },
  {
   "cell_type": "code",
   "execution_count": 8,
   "metadata": {},
   "outputs": [
    {
     "name": "stdout",
     "output_type": "stream",
     "text": [
      "\n",
      "Compiling your contracts...\n",
      "===========================\n",
      "> Everything is up to date, there is nothing to compile.\n",
      "\n",
      "\n",
      "\n",
      "Starting migrations...\n",
      "======================\n",
      "> Network name:    'development'\n",
      "> Network id:      5777\n",
      "> Block gas limit: 6721975 (0x6691b7)\n",
      "\n",
      "\n",
      "1_initial_migration.js\n",
      "======================\n",
      "\n",
      "   Deploying 'Migrations'\n",
      "   ----------------------\n",
      "   > transaction hash:    0x50f9420b241400c35fb746beabcefb7787a3fd2124109d2dc1c29903a5875a29\n",
      "   > Blocks: 0            Seconds: 0\n",
      "   > contract address:    0x0979d506D0d30233cFd2F50FB0Cb9C33D8e3d1c4\n",
      "   > block number:        31\n",
      "   > block timestamp:     1605165601\n",
      "   > account:             0xe642f1a103867EE5100b197A4cF083185aD78438\n",
      "   > balance:             99.1242324\n",
      "   > gas used:            164175 (0x2814f)\n",
      "   > gas price:           20 gwei\n",
      "   > value sent:          0 ETH\n",
      "   > total cost:          0.0032835 ETH\n",
      "\n",
      "\n",
      "   > Saving migration to chain.\n",
      "   > Saving artifacts\n",
      "   -------------------------------------\n",
      "   > Total cost:           0.0032835 ETH\n",
      "\n",
      "\n",
      "2_deploy_contracts.js\n",
      "=====================\n",
      "\n",
      "   Deploying 'ConvertLib'\n",
      "   ----------------------\n",
      "   > transaction hash:    0xcf8bd4a2c7311096ae6e4672a1b02840bb9bf3db70613acf2121c2ecb7135e90\n",
      "   > Blocks: 0            Seconds: 0\n",
      "   > contract address:    0x600e90605aCB7C2E16491C84071F19892Be1C791\n",
      "   > block number:        33\n",
      "   > block timestamp:     1605165601\n",
      "   > account:             0xe642f1a103867EE5100b197A4cF083185aD78438\n",
      "   > balance:             99.12147618\n",
      "   > gas used:            95470 (0x174ee)\n",
      "   > gas price:           20 gwei\n",
      "   > value sent:          0 ETH\n",
      "   > total cost:          0.0019094 ETH\n",
      "\n",
      "\n",
      "   Linking\n",
      "   -------\n",
      "   * Contract: MetaCoin <--> Library: ConvertLib (at address: 0x600e90605aCB7C2E16491C84071F19892Be1C791)\n",
      "\n",
      "   Deploying 'MetaCoin'\n",
      "   --------------------\n",
      "   > transaction hash:    0xa824c59522d3df876559795930cf2f66a1bf9aa762cd86185561bdc80345a174\n",
      "   > Blocks: 0            Seconds: 0\n",
      "   > contract address:    0x5729e50BB32A2bD01d3b2aCe4eabbcbDf7F07E3E\n",
      "   > block number:        34\n",
      "   > block timestamp:     1605165601\n",
      "   > account:             0xe642f1a103867EE5100b197A4cF083185aD78438\n",
      "   > balance:             99.11574488\n",
      "   > gas used:            286565 (0x45f65)\n",
      "   > gas price:           20 gwei\n",
      "   > value sent:          0 ETH\n",
      "   > total cost:          0.0057313 ETH\n",
      "\n",
      "\n",
      "   > Saving migration to chain.\n",
      "   > Saving artifacts\n",
      "   -------------------------------------\n",
      "   > Total cost:           0.0076407 ETH\n",
      "\n",
      "\n",
      "Summary\n",
      "=======\n",
      "> Total deployments:   3\n",
      "> Final cost:          0.0109242 ETH\n",
      "\n",
      "\n"
     ]
    },
    {
     "name": "stderr",
     "output_type": "stream",
     "text": [
      "- Blocks: 0            Seconds: 0\n",
      "- Saving migration to chain.\n",
      "- Blocks: 0            Seconds: 0\n",
      "- Blocks: 0            Seconds: 0\n",
      "- Saving migration to chain.\n"
     ]
    }
   ],
   "source": [
    "%%bash\n",
    "cd MetaCoin && truffle migrate"
   ]
  }
 ],
 "metadata": {
  "kernelspec": {
   "display_name": "Python 3",
   "language": "python",
   "name": "python3"
  },
  "language_info": {
   "codemirror_mode": {
    "name": "ipython",
    "version": 3
   },
   "file_extension": ".py",
   "mimetype": "text/x-python",
   "name": "python",
   "nbconvert_exporter": "python",
   "pygments_lexer": "ipython3",
   "version": "3.9.0"
  }
 },
 "nbformat": 4,
 "nbformat_minor": 4
}
