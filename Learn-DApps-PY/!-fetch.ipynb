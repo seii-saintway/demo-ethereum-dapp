{
 "cells": [
  {
   "cell_type": "code",
   "execution_count": 1,
   "metadata": {},
   "outputs": [],
   "source": [
    "BASE_DIR_URL = 'http://7878.5536d4a15c504f015a0e86b4ded8bef9.z.hubwiz.com/api/repo/home/user/_fs/repo'\n",
    "BASE_DIR_PATH = '.'"
   ]
  },
  {
   "cell_type": "code",
   "execution_count": 2,
   "metadata": {},
   "outputs": [
    {
     "name": "stdout",
     "output_type": "stream",
     "text": [
      "./README.md\n",
      "./chapter2/README.md\n",
      "./chapter2/rpc-curl.sh\n",
      "./chapter2/rpc-requests.py\n",
      "./chapter2/rpc-web3-entry.py\n",
      "./chapter2/rpc-web3-namerule.py\n",
      "./chapter2/rpc-web3.py\n",
      "./chapter3/README.md\n",
      "./chapter3/import-key.py\n",
      "./chapter3/keys-and-address.py\n",
      "./chapter3/new-account.py\n",
      "./chapter3/wallet.py\n",
      "./chapter4/README.md\n",
      "./chapter4/balance.py\n",
      "./chapter4/estimate-gas.py\n",
      "./chapter4/raw-transaction.py\n",
      "./chapter4/the-art-of-war.txt\n",
      "./chapter4/transaction-only.py\n",
      "./chapter4/transaction-receipt.py\n",
      "./chapter4/units.py\n",
      "./chapter5/README.md\n",
      "./chapter5/access-contract-theory.py\n",
      "./chapter5/access-contract.py\n",
      "./chapter5/build-contract.py\n",
      "./chapter5/build-contract.sh\n",
      "./chapter5/contract/EzToken.sol\n",
      "./chapter5/contract/build/EzToken.abi\n",
      "./chapter5/contract/build/EzToken.addr\n",
      "./chapter5/contract/build/EzToken.bin\n",
      "./chapter5/deploy-contract-theory.py\n",
      "./chapter5/deploy-contract.py\n",
      "./chapter6/README.md\n",
      "./chapter6/block-filter-trigger.py\n",
      "./chapter6/block-monitor.py\n",
      "./chapter6/build-contract.py\n",
      "./chapter6/build-contract.sh\n",
      "./chapter6/contract/EzToken.sol\n",
      "./chapter6/contract/build/EzToken.abi\n",
      "./chapter6/contract/build/EzToken.addr\n",
      "./chapter6/contract/build/EzToken.bin\n",
      "./chapter6/contract-event-monitor.py\n",
      "./chapter6/contract-log-monitor-decode.py\n",
      "./chapter6/contract-log-monitor-topic.py\n",
      "./chapter6/contract-log-monitor.py\n",
      "./chapter6/contract-trigger.py\n",
      "./chapter6/deploy-contract.py\n",
      "./chapter6/deploy-contrat.py\n",
      "./chapter6/pending-tx-monitor.py\n",
      "./chapter6/transaction-monitor.py\n"
     ]
    }
   ],
   "source": [
    "def fetch_dir(relative_path):\n",
    "    import requests\n",
    "    for f in requests.get(f'{BASE_DIR_URL}{relative_path}').json():\n",
    "        if f['type'] == 'dir':\n",
    "            try:\n",
    "                import os\n",
    "                os.mkdir(f'{BASE_DIR_PATH}{relative_path}/{f[\"name\"]}')\n",
    "            except:\n",
    "                pass\n",
    "            fetch_dir(f'{relative_path}/{f[\"name\"]}')\n",
    "        if f['type'] == 'file':\n",
    "            print(f'{BASE_DIR_PATH}{relative_path}/{f[\"name\"]}')\n",
    "            with open(f'{BASE_DIR_PATH}{relative_path}/{f[\"name\"]}', 'w') as file:\n",
    "                file.write(requests.get(f'{BASE_DIR_URL}{relative_path}/{f[\"name\"]}').text)\n",
    "\n",
    "fetch_dir('')"
   ]
  }
 ],
 "metadata": {
  "kernelspec": {
   "display_name": "Python 3",
   "language": "python",
   "name": "python3"
  },
  "language_info": {
   "codemirror_mode": {
    "name": "ipython",
    "version": 3
   },
   "file_extension": ".py",
   "mimetype": "text/x-python",
   "name": "python",
   "nbconvert_exporter": "python",
   "pygments_lexer": "ipython3",
   "version": "3.6.7"
  }
 },
 "nbformat": 4,
 "nbformat_minor": 4
}
