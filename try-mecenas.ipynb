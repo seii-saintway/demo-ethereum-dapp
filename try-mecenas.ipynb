{
 "cells": [
  {
   "cell_type": "markdown",
   "metadata": {},
   "source": [
    "https://kartojal.github.io/mecenas/"
   ]
  },
  {
   "cell_type": "markdown",
   "metadata": {},
   "source": [
    "`git clone https://github.com/kartojal/mecenas.git`"
   ]
  },
  {
   "cell_type": "markdown",
   "metadata": {},
   "source": [
    "[use an m3.large instance type for npm](https://npme.npmjs.com/docs/up-and-running/requirements.html#note-on-aws)"
   ]
  },
  {
   "cell_type": "code",
   "execution_count": null,
   "metadata": {},
   "outputs": [],
   "source": [
    "sudo chown -R jupyter-sheng_wei:jupyterhub-users ~/.config/truffle"
   ]
  },
  {
   "cell_type": "code",
   "execution_count": null,
   "metadata": {},
   "outputs": [
    {
     "name": "stdout",
     "output_type": "stream",
     "text": [
      "{}"
     ]
    }
   ],
   "source": [
    "cat ~/.config/truffle/config.json"
   ]
  },
  {
   "cell_type": "code",
   "execution_count": null,
   "metadata": {},
   "outputs": [
    {
     "name": "stdout",
     "output_type": "stream",
     "text": [
      "total 12M\n",
      "drwxr-xr-x 2 jupyter-sheng_wei jupyterhub-users 4.0K Oct 19 16:34 ./\n",
      "drwxr-xr-x 3 jupyter-sheng_wei jupyterhub-users 4.0K Oct 19 16:34 ../\n",
      "-rw-r--r-- 1 jupyter-sheng_wei jupyterhub-users  12M Oct 19 16:34 soljson-v0.5.16+commit.9c3226ce.js\n"
     ]
    }
   ],
   "source": [
    "ll ~/.config/truffle/compilers/node_modules"
   ]
  },
  {
   "cell_type": "code",
   "execution_count": null,
   "metadata": {},
   "outputs": [
    {
     "name": "stdout",
     "output_type": "stream",
     "text": [
      "total 24216\n",
      "drwxr-xr-x  3 saintway  staff    96B Nov  6 09:14 .\n",
      "drwxr-xr-x  3 saintway  staff    96B Nov  6 09:14 ..\n",
      "-rw-r--r--  1 saintway  staff    12M Nov  6 09:14 soljson-v0.5.16+commit.9c3226ce.js\n"
     ]
    }
   ],
   "source": [
    "ls -lah ~/.config/truffle/compilers/node_modules"
   ]
  },
  {
   "cell_type": "code",
   "execution_count": null,
   "metadata": {},
   "outputs": [],
   "source": [
    "cd mecenas"
   ]
  },
  {
   "cell_type": "code",
   "execution_count": null,
   "metadata": {},
   "outputs": [
    {
     "name": "stdout",
     "output_type": "stream",
     "text": [
      "Checking /Users/saintway/JHub/demo-ethereum-dapp/mecenas/package.json\n",
      "\u001b[1G[--------------------] 0/83 0%\u001b[0K\u001b[1G[--------------------] 1/83 1%\u001b[0K\u001b[1G[=-------------------] 3/83 3%\u001b[0K\u001b[1G[=-------------------] 4/83 4%\u001b[0K\u001b[1G[==------------------] 7/83 8%\u001b[0K\u001b[1G[==------------------] 8/83 9%\u001b[0K\u001b[1G[==------------------] 9/83 10%\u001b[0K\u001b[1G[==------------------] 10/83 12%\u001b[0K\u001b[1G[===-----------------] 11/83 13%\u001b[0K\u001b[1G[===-----------------] 12/83 14%\u001b[0K\u001b[1G[===-----------------] 13/83 15%\u001b[0K\u001b[1G[===-----------------] 14/83 16%\u001b[0K\u001b[1G[====----------------] 15/83 18%\u001b[0K\u001b[1G[====----------------] 17/83 20%\u001b[0K\u001b[1G[====----------------] 18/83 21%\u001b[0K\u001b[1G[=====---------------] 20/83 24%\u001b[0K\u001b[1G[=====---------------] 22/83 26%\u001b[0K\u001b[1G[======--------------] 23/83 27%\u001b[0K\u001b[1G[======--------------] 24/83 28%\u001b[0K\u001b[1G[======--------------] 26/83 31%\u001b[0K\u001b[1G[=======-------------] 28/83 33%\u001b[0K\u001b[1G[=======-------------] 30/83 36%\u001b[0K\u001b[1G[=======-------------] 31/83 37%\u001b[0K\u001b[1G[========------------] 32/83 38%\u001b[0K\u001b[1G[========------------] 33/83 39%\u001b[0K\u001b[1G[=========-----------] 36/83 43%\u001b[0K\u001b[1G[=========-----------] 38/83 45%\u001b[0K\u001b[1G[==========----------] 42/83 50%\u001b[0K\u001b[1G[===========---------] 44/83 53%\u001b[0K\u001b[1G[===========---------] 45/83 54%\u001b[0K\u001b[1G[============--------] 49/83 59%\u001b[0K\u001b[1G[============--------] 51/83 61%\u001b[0K\u001b[1G[=============-------] 52/83 62%\u001b[0K\u001b[1G[=============-------] 53/83 63%\u001b[0K\u001b[1G[=============-------] 54/83 65%\u001b[0K\u001b[1G[==============------] 57/83 68%\u001b[0K\u001b[1G[==============------] 59/83 71%\u001b[0K\u001b[1G[==============------] 60/83 72%\u001b[0K\u001b[1G[===============-----] 62/83 74%\u001b[0K\u001b[1G[===============-----] 64/83 77%\u001b[0K\u001b[1G[================----] 66/83 79%\u001b[0K\u001b[1G[=================---] 71/83 85%\u001b[0K\u001b[1G[=================---] 72/83 86%\u001b[0K\u001b[1G[==================--] 73/83 87%\u001b[0K\u001b[1G[==================--] 75/83 90%\u001b[0K\u001b[1G[===================-] 77/83 92%\u001b[0K\u001b[1G[===================-] 78/83 93%\u001b[0K\u001b[1G[===================-] 79/83 95%\u001b[0K\u001b[1G[====================] 82/83 98%\u001b[0K\u001b[1G[====================] 83/83 100%\u001b[0K\n",
      "\n",
      " @material-ui/core                           ^1.4.3  →   ^\u001b[31m4.11.0\u001b[39m   \n",
      " @material-ui/icons                          ^2.0.3  →    ^\u001b[31m4.9.1\u001b[39m   \n",
      " drizzle                                     ^1.2.2  →    ^1.\u001b[36m4.0\u001b[39m   \n",
      " drizzle-react                               ^1.2.0  →    ^1.\u001b[36m3.0\u001b[39m   \n",
      " drizzle-react-components                    ^1.2.0  →    ^1.\u001b[36m4.0\u001b[39m   \n",
      " eslint-config-standard                     ^11.0.0  →   ^\u001b[31m16.0.1\u001b[39m   \n",
      " eslint-config-standard-react                ^6.0.0  →   ^\u001b[31m11.0.1\u001b[39m   \n",
      " eslint-plugin-babel                         ^5.1.0  →    ^5.\u001b[36m3.1\u001b[39m   \n",
      " lodash                                    ^4.17.10  →  ^4.17.\u001b[32m20\u001b[39m   \n",
      " react                                      ^16.4.2  →   ^\u001b[31m17.0.1\u001b[39m   \n",
      " react-dom                                  ^16.4.2  →   ^\u001b[31m17.0.1\u001b[39m   \n",
      " react-placeholder                           ^3.0.1  →    ^\u001b[31m4.0.3\u001b[39m   \n",
      " react-redux                                 ^5.0.7  →    ^\u001b[31m7.2.2\u001b[39m   \n",
      " react-router                                ^4.3.1  →    ^\u001b[31m5.2.0\u001b[39m   \n",
      " react-router-dom                            ^4.3.1  →    ^\u001b[31m5.2.0\u001b[39m   \n",
      " react-share                                 ^2.3.0  →    ^\u001b[31m4.3.1\u001b[39m   \n",
      " react-slick                                ^0.23.1  →  ^0.\u001b[31m27.13\u001b[39m   \n",
      " redux                                       ^3.6.0  →    ^\u001b[31m4.0.5\u001b[39m   \n",
      " redux-auth-wrapper                          ^1.0.0  →    ^\u001b[31m3.0.0\u001b[39m   \n",
      " redux-saga                                 ^0.15.3  →    ^\u001b[31m1.1.3\u001b[39m   \n",
      " styled-components                           ^3.4.2  →    ^\u001b[31m5.2.1\u001b[39m   \n",
      " typeface-roboto                             0.0.54  →    \u001b[31m1.1.13\u001b[39m   \n",
      " video-react                                ^0.13.0  →   ^0.\u001b[31m14.1\u001b[39m   \n",
      " web3                                 1.0.0-beta.34  →     1.\u001b[36m3.0\u001b[39m   \n",
      " autoprefixer                                 6.5.1  →    \u001b[31m10.0.2\u001b[39m   \n",
      " babel-core                                  6.17.0  →    6.\u001b[36m26.3\u001b[39m   \n",
      " babel-eslint                                ^8.0.2  →   ^\u001b[31m10.1.0\u001b[39m   \n",
      " babel-jest                                  17.0.2  →    \u001b[31m26.6.3\u001b[39m   \n",
      " babel-loader                                 6.2.7  →     \u001b[31m8.2.1\u001b[39m   \n",
      " case-sensitive-paths-webpack-plugin          1.1.4  →     \u001b[31m2.3.0\u001b[39m   \n",
      " chai                                        ^4.1.2  →    ^4.\u001b[36m2.0\u001b[39m   \n",
      " chalk                                        1.1.3  →     \u001b[31m4.1.0\u001b[39m   \n",
      " connect-history-api-fallback                 1.3.0  →     1.\u001b[36m6.0\u001b[39m   \n",
      " cross-spawn                                  4.0.2  →     \u001b[31m7.0.3\u001b[39m   \n",
      " css-loader                                  0.26.0  →     \u001b[31m5.0.1\u001b[39m   \n",
      " detect-port                                  1.0.1  →     1.\u001b[36m3.0\u001b[39m   \n",
      " dotenv                                       2.0.0  →     \u001b[31m8.2.0\u001b[39m   \n",
      " eslint                                      ^5.3.0  →   ^\u001b[31m7.13.0\u001b[39m   \n",
      " eslint-config-react-app                     ^0.5.2  →    ^\u001b[31m6.0.0\u001b[39m   \n",
      " eslint-plugin-flowtype                     ^2.39.1  →    ^\u001b[31m5.2.0\u001b[39m   \n",
      " eslint-plugin-import                        ^2.8.0  →   ^2.\u001b[36m22.1\u001b[39m   \n",
      " eslint-plugin-jsx-a11y                      ^6.0.2  →    ^6.\u001b[36m4.1\u001b[39m   \n",
      " eslint-plugin-react                         ^7.5.1  →   ^7.\u001b[36m21.5\u001b[39m   \n",
      " file-loader                                  0.9.0  →     \u001b[31m6.2.0\u001b[39m   \n",
      " filesize                                     3.3.0  →     \u001b[31m6.1.0\u001b[39m   \n",
      " fs-extra                                    0.30.0  →     \u001b[31m9.0.1\u001b[39m   \n",
      " ganache-cli                                 ^6.1.8  →   ^6.\u001b[36m12.1\u001b[39m   \n",
      " gh-pages                                    ^1.2.0  →    ^\u001b[31m3.1.0\u001b[39m   \n",
      " gzip-size                                    3.0.0  →     \u001b[31m6.0.0\u001b[39m   \n",
      " html-webpack-plugin                         2.24.0  →     \u001b[31m4.5.0\u001b[39m   \n",
      " http-proxy-middleware                       0.17.2  →     \u001b[31m1.0.6\u001b[39m   \n",
      " jest                                        17.0.2  →    \u001b[31m26.6.3\u001b[39m   \n",
      " json-loader                                  0.5.4  →     0.5.\u001b[31m7\u001b[39m   \n",
      " object-assign                                4.1.0  →     4.1.\u001b[32m1\u001b[39m   \n",
      " openzeppelin-solidity                       ^1.9.0  →    ^\u001b[31m3.2.0\u001b[39m   \n",
      " path-exists                                  2.1.0  →     \u001b[31m4.0.0\u001b[39m   \n",
      " postcss-loader                               1.0.0  →     \u001b[31m4.0.4\u001b[39m   \n",
      " promise                                      7.1.1  →     \u001b[31m8.1.0\u001b[39m   \n",
      " react-dev-utils                             ^0.4.2  →   ^\u001b[31m11.0.0\u001b[39m   \n",
      " recursive-readdir                            2.1.0  →     2.\u001b[36m2.2\u001b[39m   \n",
      " strip-ansi                                   3.0.1  →     \u001b[31m6.0.0\u001b[39m   \n",
      " style-loader                                0.13.1  →     \u001b[31m2.0.0\u001b[39m   \n",
      " url-loader                                   0.5.7  →     \u001b[31m4.1.1\u001b[39m   \n",
      " webpack                                     1.14.0  →     \u001b[31m5.4.0\u001b[39m   \n",
      " webpack-dev-server                          1.16.2  →    \u001b[31m3.11.0\u001b[39m   \n",
      " webpack-manifest-plugin                      1.1.0  →     \u001b[31m2.2.0\u001b[39m   \n",
      " whatwg-fetch                                 1.0.0  →     \u001b[31m3.5.0\u001b[39m   \n",
      "\n",
      "Run \u001b[36mncu -u\u001b[39m to upgrade package.json\n"
     ]
    }
   ],
   "source": [
    "ncu"
   ]
  },
  {
   "cell_type": "code",
   "execution_count": null,
   "metadata": {},
   "outputs": [],
   "source": [
    "truffle test"
   ]
  }
 ],
 "metadata": {
  "kernelspec": {
   "display_name": "Bash",
   "language": "bash",
   "name": "bash"
  },
  "language_info": {
   "codemirror_mode": "shell",
   "file_extension": ".sh",
   "mimetype": "text/x-sh",
   "name": "bash"
  }
 },
 "nbformat": 4,
 "nbformat_minor": 4
}
